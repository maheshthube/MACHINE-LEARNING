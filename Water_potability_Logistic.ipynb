{
 "cells": [
  {
   "cell_type": "code",
   "execution_count": 1,
   "id": "146aca76",
   "metadata": {},
   "outputs": [
    {
     "data": {
      "text/html": [
       "        <script type=\"text/javascript\">\n",
       "        window.PlotlyConfig = {MathJaxConfig: 'local'};\n",
       "        if (window.MathJax && window.MathJax.Hub && window.MathJax.Hub.Config) {window.MathJax.Hub.Config({SVG: {font: \"STIX-Web\"}});}\n",
       "        if (typeof require !== 'undefined') {\n",
       "        require.undef(\"plotly\");\n",
       "        requirejs.config({\n",
       "            paths: {\n",
       "                'plotly': ['https://cdn.plot.ly/plotly-2.12.1.min']\n",
       "            }\n",
       "        });\n",
       "        require(['plotly'], function(Plotly) {\n",
       "            window._Plotly = Plotly;\n",
       "        });\n",
       "        }\n",
       "        </script>\n",
       "        "
      ]
     },
     "metadata": {},
     "output_type": "display_data"
    }
   ],
   "source": [
    "#Importing libraries\n",
    "import numpy as np # linear algebra\n",
    "import pandas as pd # data processing, CSV file I/O \n",
    "import os\n",
    "import itertools\n",
    "import warnings\n",
    "warnings.filterwarnings(\"ignore\")\n",
    "import io\n",
    "\n",
    "################# visualization #################\n",
    "import matplotlib.pyplot as plt \n",
    "from PIL import  Image\n",
    "import seaborn as sns \n",
    "import plotly.offline as py\n",
    "py.init_notebook_mode(connected=True)\n",
    "import plotly.graph_objs as go\n",
    "import plotly.tools as tls\n",
    "import plotly.figure_factory as ff"
   ]
  },
  {
   "cell_type": "code",
   "execution_count": 2,
   "id": "26e36cce",
   "metadata": {},
   "outputs": [
    {
     "data": {
      "text/html": [
       "<div>\n",
       "<style scoped>\n",
       "    .dataframe tbody tr th:only-of-type {\n",
       "        vertical-align: middle;\n",
       "    }\n",
       "\n",
       "    .dataframe tbody tr th {\n",
       "        vertical-align: top;\n",
       "    }\n",
       "\n",
       "    .dataframe thead th {\n",
       "        text-align: right;\n",
       "    }\n",
       "</style>\n",
       "<table border=\"1\" class=\"dataframe\">\n",
       "  <thead>\n",
       "    <tr style=\"text-align: right;\">\n",
       "      <th></th>\n",
       "      <th>ph</th>\n",
       "      <th>Hardness</th>\n",
       "      <th>Solids</th>\n",
       "      <th>Chloramines</th>\n",
       "      <th>Sulfate</th>\n",
       "      <th>Conductivity</th>\n",
       "      <th>Organic_carbon</th>\n",
       "      <th>Trihalomethanes</th>\n",
       "      <th>Turbidity</th>\n",
       "      <th>Potability</th>\n",
       "    </tr>\n",
       "  </thead>\n",
       "  <tbody>\n",
       "    <tr>\n",
       "      <th>0</th>\n",
       "      <td>NaN</td>\n",
       "      <td>204.890456</td>\n",
       "      <td>20791.31898</td>\n",
       "      <td>7.300212</td>\n",
       "      <td>368.516441</td>\n",
       "      <td>564.308654</td>\n",
       "      <td>10.379783</td>\n",
       "      <td>86.990970</td>\n",
       "      <td>2.963135</td>\n",
       "      <td>not potable</td>\n",
       "    </tr>\n",
       "    <tr>\n",
       "      <th>1</th>\n",
       "      <td>3.716080</td>\n",
       "      <td>129.422921</td>\n",
       "      <td>18630.05786</td>\n",
       "      <td>6.635246</td>\n",
       "      <td>NaN</td>\n",
       "      <td>592.885359</td>\n",
       "      <td>15.180013</td>\n",
       "      <td>56.329076</td>\n",
       "      <td>4.500656</td>\n",
       "      <td>not potable</td>\n",
       "    </tr>\n",
       "    <tr>\n",
       "      <th>2</th>\n",
       "      <td>8.099124</td>\n",
       "      <td>224.236259</td>\n",
       "      <td>19909.54173</td>\n",
       "      <td>9.275884</td>\n",
       "      <td>NaN</td>\n",
       "      <td>418.606213</td>\n",
       "      <td>16.868637</td>\n",
       "      <td>66.420093</td>\n",
       "      <td>3.055934</td>\n",
       "      <td>not potable</td>\n",
       "    </tr>\n",
       "    <tr>\n",
       "      <th>3</th>\n",
       "      <td>8.316766</td>\n",
       "      <td>214.373394</td>\n",
       "      <td>22018.41744</td>\n",
       "      <td>8.059332</td>\n",
       "      <td>356.886136</td>\n",
       "      <td>363.266516</td>\n",
       "      <td>18.436525</td>\n",
       "      <td>100.341674</td>\n",
       "      <td>4.628771</td>\n",
       "      <td>not potable</td>\n",
       "    </tr>\n",
       "    <tr>\n",
       "      <th>4</th>\n",
       "      <td>9.092223</td>\n",
       "      <td>181.101509</td>\n",
       "      <td>17978.98634</td>\n",
       "      <td>6.546600</td>\n",
       "      <td>310.135738</td>\n",
       "      <td>398.410813</td>\n",
       "      <td>11.558279</td>\n",
       "      <td>31.997993</td>\n",
       "      <td>4.075075</td>\n",
       "      <td>not potable</td>\n",
       "    </tr>\n",
       "  </tbody>\n",
       "</table>\n",
       "</div>"
      ],
      "text/plain": [
       "         ph    Hardness       Solids  Chloramines     Sulfate  Conductivity  \\\n",
       "0       NaN  204.890456  20791.31898     7.300212  368.516441    564.308654   \n",
       "1  3.716080  129.422921  18630.05786     6.635246         NaN    592.885359   \n",
       "2  8.099124  224.236259  19909.54173     9.275884         NaN    418.606213   \n",
       "3  8.316766  214.373394  22018.41744     8.059332  356.886136    363.266516   \n",
       "4  9.092223  181.101509  17978.98634     6.546600  310.135738    398.410813   \n",
       "\n",
       "   Organic_carbon  Trihalomethanes  Turbidity   Potability  \n",
       "0       10.379783        86.990970   2.963135  not potable  \n",
       "1       15.180013        56.329076   4.500656  not potable  \n",
       "2       16.868637        66.420093   3.055934  not potable  \n",
       "3       18.436525       100.341674   4.628771  not potable  \n",
       "4       11.558279        31.997993   4.075075  not potable  "
      ]
     },
     "execution_count": 2,
     "metadata": {},
     "output_type": "execute_result"
    }
   ],
   "source": [
    "import pandas as pd\n",
    "Data = pd.read_csv (r\"D:\\Mahesh\\IMARTICUS\\Machine Learning with python\\Logistic regression\\water_potability.csv\")\n",
    "\n",
    "#first few rows\n",
    "Data.head()"
   ]
  },
  {
   "cell_type": "code",
   "execution_count": 3,
   "id": "24e03072",
   "metadata": {},
   "outputs": [
    {
     "name": "stdout",
     "output_type": "stream",
     "text": [
      "<class 'pandas.core.frame.DataFrame'>\n",
      "RangeIndex: 3276 entries, 0 to 3275\n",
      "Data columns (total 10 columns):\n",
      " #   Column           Non-Null Count  Dtype  \n",
      "---  ------           --------------  -----  \n",
      " 0   ph               2785 non-null   float64\n",
      " 1   Hardness         3276 non-null   float64\n",
      " 2   Solids           3276 non-null   float64\n",
      " 3   Chloramines      3276 non-null   float64\n",
      " 4   Sulfate          2495 non-null   float64\n",
      " 5   Conductivity     3276 non-null   float64\n",
      " 6   Organic_carbon   3276 non-null   float64\n",
      " 7   Trihalomethanes  3114 non-null   float64\n",
      " 8   Turbidity        3276 non-null   float64\n",
      " 9   Potability       3276 non-null   object \n",
      "dtypes: float64(9), object(1)\n",
      "memory usage: 256.1+ KB\n"
     ]
    }
   ],
   "source": [
    "Data.info()"
   ]
  },
  {
   "cell_type": "code",
   "execution_count": 4,
   "id": "4f98add9",
   "metadata": {},
   "outputs": [
    {
     "data": {
      "text/plain": [
       "ph                 491\n",
       "Hardness             0\n",
       "Solids               0\n",
       "Chloramines          0\n",
       "Sulfate            781\n",
       "Conductivity         0\n",
       "Organic_carbon       0\n",
       "Trihalomethanes    162\n",
       "Turbidity            0\n",
       "Potability           0\n",
       "dtype: int64"
      ]
     },
     "execution_count": 4,
     "metadata": {},
     "output_type": "execute_result"
    }
   ],
   "source": [
    "Data.isnull().sum()"
   ]
  },
  {
   "cell_type": "code",
   "execution_count": 5,
   "id": "766f8947",
   "metadata": {},
   "outputs": [],
   "source": [
    "for column in ['ph','Sulfate','Trihalomethanes']:\n",
    "    Data[column].fillna(Data[column].median(), inplace=True)"
   ]
  },
  {
   "cell_type": "code",
   "execution_count": 6,
   "id": "f266a306",
   "metadata": {},
   "outputs": [
    {
     "data": {
      "text/plain": [
       "ph                 0\n",
       "Hardness           0\n",
       "Solids             0\n",
       "Chloramines        0\n",
       "Sulfate            0\n",
       "Conductivity       0\n",
       "Organic_carbon     0\n",
       "Trihalomethanes    0\n",
       "Turbidity          0\n",
       "Potability         0\n",
       "dtype: int64"
      ]
     },
     "execution_count": 6,
     "metadata": {},
     "output_type": "execute_result"
    }
   ],
   "source": [
    "Data.isnull().sum()"
   ]
  },
  {
   "cell_type": "code",
   "execution_count": 7,
   "id": "f2accc3d",
   "metadata": {},
   "outputs": [
    {
     "data": {
      "text/plain": [
       "<AxesSubplot:xlabel='ph'>"
      ]
     },
     "execution_count": 7,
     "metadata": {},
     "output_type": "execute_result"
    },
    {
     "data": {
      "image/png": "[encoded data removed]",
      "text/plain": [
       "<Figure size 640x480 with 1 Axes>"
      ]
     },
     "metadata": {},
     "output_type": "display_data"
    }
   ],
   "source": [
    "sns.boxplot(Data.ph)"
   ]
  },
  {
   "cell_type": "code",
   "execution_count": 8,
   "id": "11c6bec7",
   "metadata": {},
   "outputs": [],
   "source": [
    "q1 = Data['ph'].quantile(0.25)\n",
    "q3 = Data['ph'].quantile(0.75)\n",
    "iqr = q3-q1 #Interquartile range\n",
    "low_limit = q1-1.5*iqr #acceptable range\n",
    "upper_limit = q3+1.5*iqr #acceptable range\n"
   ]
  },
  {
   "cell_type": "code",
   "execution_count": 9,
   "id": "c9b76306",
   "metadata": {},
   "outputs": [],
   "source": [
    "Data['ph']=np.where(Data['ph'] > upper_limit,upper_limit,Data['ph']) # upper limit"
   ]
  },
  {
   "cell_type": "code",
   "execution_count": 10,
   "id": "e3382d43",
   "metadata": {},
   "outputs": [],
   "source": [
    "Data['ph']=np.where(Data['ph'] < low_limit,low_limit,Data['ph']) # low_limit"
   ]
  },
  {
   "cell_type": "code",
   "execution_count": 11,
   "id": "d27a32ae",
   "metadata": {},
   "outputs": [
    {
     "data": {
      "text/plain": [
       "<AxesSubplot:xlabel='ph'>"
      ]
     },
     "execution_count": 11,
     "metadata": {},
     "output_type": "execute_result"
    },
    {
     "data": {
      "image/png": "[encoded data removed]",
      "text/plain": [
       "<Figure size 640x480 with 1 Axes>"
      ]
     },
     "metadata": {},
     "output_type": "display_data"
    }
   ],
   "source": [
    "sns.boxplot(Data.ph)"
   ]
  },
  {
   "cell_type": "code",
   "execution_count": 12,
   "id": "917d20a6",
   "metadata": {},
   "outputs": [
    {
     "data": {
      "text/plain": [
       "<AxesSubplot:xlabel='Hardness'>"
      ]
     },
     "execution_count": 12,
     "metadata": {},
     "output_type": "execute_result"
    },
    {
     "data": {
      "image/png": "[encoded data removed]",
      "text/plain": [
       "<Figure size 640x480 with 1 Axes>"
      ]
     },
     "metadata": {},
     "output_type": "display_data"
    }
   ],
   "source": [
    "sns.boxplot(Data.Hardness)"
   ]
  },
  {
   "cell_type": "code",
   "execution_count": 13,
   "id": "40f52ecd",
   "metadata": {},
   "outputs": [],
   "source": [
    "q1 = Data['Hardness'].quantile(0.25)\n",
    "q3 = Data['Hardness'].quantile(0.75)\n",
    "iqr = q3-q1 #Interquartile range\n",
    "low_limit = q1-1.5*iqr #acceptable range\n",
    "upper_limit = q3+1.5*iqr #acceptable range"
   ]
  },
  {
   "cell_type": "code",
   "execution_count": 14,
   "id": "85d90705",
   "metadata": {},
   "outputs": [],
   "source": [
    "Data['Hardness']=np.where(Data['Hardness'] > upper_limit,upper_limit,Data['Hardness']) # upper limit"
   ]
  },
  {
   "cell_type": "code",
   "execution_count": 15,
   "id": "8d228f17",
   "metadata": {},
   "outputs": [],
   "source": [
    "Data['Hardness']=np.where(Data['Hardness'] < low_limit,low_limit,Data['Hardness']) # low_limit"
   ]
  },
  {
   "cell_type": "code",
   "execution_count": 16,
   "id": "18e68d49",
   "metadata": {},
   "outputs": [
    {
     "data": {
      "text/plain": [
       "<AxesSubplot:xlabel='Hardness'>"
      ]
     },
     "execution_count": 16,
     "metadata": {},
     "output_type": "execute_result"
    },
    {
     "data": {
      "image/png": "[encoded data removed]",
      "text/plain": [
       "<Figure size 640x480 with 1 Axes>"
      ]
     },
     "metadata": {},
     "output_type": "display_data"
    }
   ],
   "source": [
    "sns.boxplot(Data.Hardness)"
   ]
  },
  {
   "cell_type": "code",
   "execution_count": 17,
   "id": "0f28fd27",
   "metadata": {},
   "outputs": [
    {
     "data": {
      "text/plain": [
       "<AxesSubplot:xlabel='Solids'>"
      ]
     },
     "execution_count": 17,
     "metadata": {},
     "output_type": "execute_result"
    },
    {
     "data": {
      "image/png": "[encoded data removed]",
      "text/plain": [
       "<Figure size 640x480 with 1 Axes>"
      ]
     },
     "metadata": {},
     "output_type": "display_data"
    }
   ],
   "source": [
    "sns.boxplot(Data.Solids)"
   ]
  },
  {
   "cell_type": "code",
   "execution_count": 18,
   "id": "baaa75b8",
   "metadata": {},
   "outputs": [],
   "source": [
    "q1 = Data['Solids'].quantile(0.25)\n",
    "q3 = Data['Solids'].quantile(0.75)\n",
    "iqr = q3-q1 #Interquartile range\n",
    "#low_limit = q1-1.5*iqr #acceptable range\n",
    "upper_limit = q3+1.5*iqr #acceptable range"
   ]
  },
  {
   "cell_type": "code",
   "execution_count": 19,
   "id": "5900eb50",
   "metadata": {},
   "outputs": [],
   "source": [
    "Data['Solids']=np.where(Data['Solids'] > upper_limit,upper_limit,Data['Solids']) # upper limit"
   ]
  },
  {
   "cell_type": "code",
   "execution_count": 20,
   "id": "e6dace27",
   "metadata": {},
   "outputs": [
    {
     "data": {
      "text/plain": [
       "<AxesSubplot:xlabel='Solids'>"
      ]
     },
     "execution_count": 20,
     "metadata": {},
     "output_type": "execute_result"
    },
    {
     "data": {
      "image/png": "[encoded data removed]",
      "text/plain": [
       "<Figure size 640x480 with 1 Axes>"
      ]
     },
     "metadata": {},
     "output_type": "display_data"
    }
   ],
   "source": [
    "sns.boxplot(Data.Solids)"
   ]
  },
  {
   "cell_type": "code",
   "execution_count": 21,
   "id": "58462138",
   "metadata": {},
   "outputs": [
    {
     "data": {
      "text/plain": [
       "<AxesSubplot:xlabel='Chloramines'>"
      ]
     },
     "execution_count": 21,
     "metadata": {},
     "output_type": "execute_result"
    },
    {
     "data": {
      "image/png": "[encoded data removed]",
      "text/plain": [
       "<Figure size 640x480 with 1 Axes>"
      ]
     },
     "metadata": {},
     "output_type": "display_data"
    }
   ],
   "source": [
    "sns.boxplot(Data.Chloramines)"
   ]
  },
  {
   "cell_type": "code",
   "execution_count": 22,
   "id": "78bfa993",
   "metadata": {},
   "outputs": [],
   "source": [
    "q1 = Data['Chloramines'].quantile(0.25)\n",
    "q3 = Data['Chloramines'].quantile(0.75)\n",
    "iqr = q3-q1 #Interquartile range\n",
    "low_limit = q1-1.5*iqr #acceptable range\n",
    "upper_limit = q3+1.5*iqr #acceptable range"
   ]
  },
  {
   "cell_type": "code",
   "execution_count": 23,
   "id": "541c79df",
   "metadata": {},
   "outputs": [],
   "source": [
    "Data['Chloramines']=np.where(Data['Chloramines'] > upper_limit,upper_limit,Data['Chloramines']) # upper limit"
   ]
  },
  {
   "cell_type": "code",
   "execution_count": 24,
   "id": "1908923f",
   "metadata": {},
   "outputs": [],
   "source": [
    "Data['Chloramines']=np.where(Data['Chloramines'] < low_limit,low_limit,Data['Chloramines']) # low_limit"
   ]
  },
  {
   "cell_type": "code",
   "execution_count": 25,
   "id": "183dd363",
   "metadata": {
    "scrolled": true
   },
   "outputs": [
    {
     "data": {
      "text/plain": [
       "<AxesSubplot:xlabel='Chloramines'>"
      ]
     },
     "execution_count": 25,
     "metadata": {},
     "output_type": "execute_result"
    },
    {
     "data": {
      "image/png": "[encoded data removed]",
      "text/plain": [
       "<Figure size 640x480 with 1 Axes>"
      ]
     },
     "metadata": {},
     "output_type": "display_data"
    }
   ],
   "source": [
    "sns.boxplot(Data.Chloramines)"
   ]
  },
  {
   "cell_type": "code",
   "execution_count": 26,
   "id": "3a3d02a8",
   "metadata": {},
   "outputs": [
    {
     "data": {
      "text/plain": [
       "<AxesSubplot:xlabel='Sulfate'>"
      ]
     },
     "execution_count": 26,
     "metadata": {},
     "output_type": "execute_result"
    },
    {
     "data": {
      "image/png": "[encoded data removed]",
      "text/plain": [
       "<Figure size 640x480 with 1 Axes>"
      ]
     },
     "metadata": {},
     "output_type": "display_data"
    }
   ],
   "source": [
    "sns.boxplot(Data.Sulfate)"
   ]
  },
  {
   "cell_type": "code",
   "execution_count": 27,
   "id": "d49b2add",
   "metadata": {},
   "outputs": [],
   "source": [
    "q1 = Data['Sulfate'].quantile(0.25)\n",
    "q3 = Data['Sulfate'].quantile(0.75)\n",
    "iqr = q3-q1 #Interquartile range\n",
    "low_limit = q1-1.5*iqr #acceptable range\n",
    "upper_limit = q3+1.5*iqr #acceptable range"
   ]
  },
  {
   "cell_type": "code",
   "execution_count": 28,
   "id": "7c8fdd3c",
   "metadata": {},
   "outputs": [],
   "source": [
    "Data['Sulfate']=np.where(Data['Sulfate'] > upper_limit,upper_limit,Data['Sulfate']) # upper limit"
   ]
  },
  {
   "cell_type": "code",
   "execution_count": 29,
   "id": "bcb574c1",
   "metadata": {},
   "outputs": [],
   "source": [
    "Data['Sulfate']=np.where(Data['Sulfate'] < low_limit,low_limit,Data['Sulfate']) # low_limit"
   ]
  },
  {
   "cell_type": "code",
   "execution_count": 30,
   "id": "27b338b1",
   "metadata": {},
   "outputs": [
    {
     "data": {
      "text/plain": [
       "<AxesSubplot:xlabel='Sulfate'>"
      ]
     },
     "execution_count": 30,
     "metadata": {},
     "output_type": "execute_result"
    },
    {
     "data": {
      "image/png": "[encoded data removed]",
      "text/plain": [
       "<Figure size 640x480 with 1 Axes>"
      ]
     },
     "metadata": {},
     "output_type": "display_data"
    }
   ],
   "source": [
    "sns.boxplot(Data.Sulfate)"
   ]
  },
  {
   "cell_type": "code",
   "execution_count": 31,
   "id": "8aa02c5a",
   "metadata": {},
   "outputs": [
    {
     "data": {
      "text/plain": [
       "<AxesSubplot:xlabel='Conductivity'>"
      ]
     },
     "execution_count": 31,
     "metadata": {},
     "output_type": "execute_result"
    },
    {
     "data": {
      "image/png": "[encoded data removed]",
      "text/plain": [
       "<Figure size 640x480 with 1 Axes>"
      ]
     },
     "metadata": {},
     "output_type": "display_data"
    }
   ],
   "source": [
    "sns.boxplot(Data.Conductivity)"
   ]
  },
  {
   "cell_type": "code",
   "execution_count": 32,
   "id": "4f63003b",
   "metadata": {},
   "outputs": [],
   "source": [
    "q1 = Data['Conductivity'].quantile(0.25)\n",
    "q3 = Data['Conductivity'].quantile(0.75)\n",
    "iqr = q3-q1 #Interquartile range\n",
    "low_limit = q1-1.5*iqr #acceptable range\n",
    "upper_limit = q3+1.5*iqr #acceptable range"
   ]
  },
  {
   "cell_type": "code",
   "execution_count": 33,
   "id": "5d34ee73",
   "metadata": {},
   "outputs": [],
   "source": [
    "Data['Conductivity']=np.where(Data['Conductivity'] > upper_limit,upper_limit,Data['Conductivity']) # upper limit"
   ]
  },
  {
   "cell_type": "code",
   "execution_count": 34,
   "id": "c29979ae",
   "metadata": {},
   "outputs": [],
   "source": [
    "Data['Conductivity']=np.where(Data['Conductivity'] < low_limit,low_limit,Data['Conductivity']) # low_limit"
   ]
  },
  {
   "cell_type": "code",
   "execution_count": 35,
   "id": "b9901da5",
   "metadata": {},
   "outputs": [
    {
     "data": {
      "text/plain": [
       "<AxesSubplot:xlabel='Conductivity'>"
      ]
     },
     "execution_count": 35,
     "metadata": {},
     "output_type": "execute_result"
    },
    {
     "data": {
      "image/png": "[encoded data removed]",
      "text/plain": [
       "<Figure size 640x480 with 1 Axes>"
      ]
     },
     "metadata": {},
     "output_type": "display_data"
    }
   ],
   "source": [
    "sns.boxplot(Data.Conductivity)"
   ]
  },
  {
   "cell_type": "code",
   "execution_count": 36,
   "id": "332011da",
   "metadata": {},
   "outputs": [
    {
     "data": {
      "text/plain": [
       "<AxesSubplot:xlabel='Organic_carbon'>"
      ]
     },
     "execution_count": 36,
     "metadata": {},
     "output_type": "execute_result"
    },
    {
     "data": {
      "image/png": "[encoded data removed]",
      "text/plain": [
       "<Figure size 640x480 with 1 Axes>"
      ]
     },
     "metadata": {},
     "output_type": "display_data"
    }
   ],
   "source": [
    "sns.boxplot(Data.Organic_carbon)"
   ]
  },
  {
   "cell_type": "code",
   "execution_count": 37,
   "id": "877c75e4",
   "metadata": {},
   "outputs": [],
   "source": [
    "q1 = Data['Organic_carbon'].quantile(0.25)\n",
    "q3 = Data['Organic_carbon'].quantile(0.75)\n",
    "iqr = q3-q1 #Interquartile range\n",
    "low_limit = q1-1.5*iqr #acceptable range\n",
    "upper_limit = q3+1.5*iqr #acceptable range"
   ]
  },
  {
   "cell_type": "code",
   "execution_count": 38,
   "id": "3279ae7b",
   "metadata": {},
   "outputs": [],
   "source": [
    "Data['Organic_carbon']=np.where(Data['Organic_carbon'] > upper_limit,upper_limit,Data['Organic_carbon']) # upper limit"
   ]
  },
  {
   "cell_type": "code",
   "execution_count": 39,
   "id": "91d4cc70",
   "metadata": {},
   "outputs": [],
   "source": [
    "Data['Organic_carbon']=np.where(Data['Organic_carbon'] < low_limit,low_limit,Data['Organic_carbon']) # low_limit"
   ]
  },
  {
   "cell_type": "code",
   "execution_count": 40,
   "id": "605356ef",
   "metadata": {},
   "outputs": [
    {
     "data": {
      "text/plain": [
       "<AxesSubplot:xlabel='Organic_carbon'>"
      ]
     },
     "execution_count": 40,
     "metadata": {},
     "output_type": "execute_result"
    },
    {
     "data": {
      "image/png": "[encoded data removed]",
      "text/plain": [
       "<Figure size 640x480 with 1 Axes>"
      ]
     },
     "metadata": {},
     "output_type": "display_data"
    }
   ],
   "source": [
    "sns.boxplot(Data.Organic_carbon)"
   ]
  },
  {
   "cell_type": "code",
   "execution_count": 41,
   "id": "c24ef9b7",
   "metadata": {},
   "outputs": [
    {
     "data": {
      "text/plain": [
       "<AxesSubplot:xlabel='Trihalomethanes'>"
      ]
     },
     "execution_count": 41,
     "metadata": {},
     "output_type": "execute_result"
    },
    {
     "data": {
      "image/png": "[encoded data removed]",
      "text/plain": [
       "<Figure size 640x480 with 1 Axes>"
      ]
     },
     "metadata": {},
     "output_type": "display_data"
    }
   ],
   "source": [
    "sns.boxplot(Data.Trihalomethanes)"
   ]
  },
  {
   "cell_type": "code",
   "execution_count": 42,
   "id": "f22be734",
   "metadata": {},
   "outputs": [],
   "source": [
    "q1 = Data['Trihalomethanes'].quantile(0.25)\n",
    "q3 = Data['Trihalomethanes'].quantile(0.75)\n",
    "iqr = q3-q1 #Interquartile range\n",
    "low_limit = q1-1.5*iqr #acceptable range\n",
    "upper_limit = q3+1.5*iqr #acceptable range"
   ]
  },
  {
   "cell_type": "code",
   "execution_count": 43,
   "id": "e7f568b5",
   "metadata": {},
   "outputs": [],
   "source": [
    "Data['Trihalomethanes']=np.where(Data['Trihalomethanes'] > upper_limit,upper_limit,Data['Trihalomethanes']) # upper limit"
   ]
  },
  {
   "cell_type": "code",
   "execution_count": 44,
   "id": "9286ed44",
   "metadata": {},
   "outputs": [],
   "source": [
    "Data['Trihalomethanes']=np.where(Data['Trihalomethanes'] < low_limit,low_limit,Data['Trihalomethanes']) # low_limit"
   ]
  },
  {
   "cell_type": "code",
   "execution_count": 45,
   "id": "dafd936e",
   "metadata": {},
   "outputs": [
    {
     "data": {
      "text/plain": [
       "<AxesSubplot:xlabel='Trihalomethanes'>"
      ]
     },
     "execution_count": 45,
     "metadata": {},
     "output_type": "execute_result"
    },
    {
     "data": {
      "image/png": "[encoded data removed]",
      "text/plain": [
       "<Figure size 640x480 with 1 Axes>"
      ]
     },
     "metadata": {},
     "output_type": "display_data"
    }
   ],
   "source": [
    "sns.boxplot(Data.Trihalomethanes)"
   ]
  },
  {
   "cell_type": "code",
   "execution_count": 46,
   "id": "f3fcd6b8",
   "metadata": {},
   "outputs": [
    {
     "data": {
      "text/plain": [
       "<AxesSubplot:xlabel='Turbidity'>"
      ]
     },
     "execution_count": 46,
     "metadata": {},
     "output_type": "execute_result"
    },
    {
     "data": {
      "image/png": "[encoded data removed]",
      "text/plain": [
       "<Figure size 640x480 with 1 Axes>"
      ]
     },
     "metadata": {},
     "output_type": "display_data"
    }
   ],
   "source": [
    "sns.boxplot(Data.Turbidity)"
   ]
  },
  {
   "cell_type": "code",
   "execution_count": 47,
   "id": "2a8567d5",
   "metadata": {},
   "outputs": [],
   "source": [
    "q1 = Data['Turbidity'].quantile(0.25)\n",
    "q3 = Data['Turbidity'].quantile(0.75)\n",
    "iqr = q3-q1 #Interquartile range\n",
    "low_limit = q1-1.5*iqr #acceptable range\n",
    "upper_limit = q3+1.5*iqr #acceptable range"
   ]
  },
  {
   "cell_type": "code",
   "execution_count": 48,
   "id": "8c10824c",
   "metadata": {},
   "outputs": [],
   "source": [
    "Data['Turbidity']=np.where(Data['Turbidity'] > upper_limit,upper_limit,Data['Turbidity']) # upper limit"
   ]
  },
  {
   "cell_type": "code",
   "execution_count": 49,
   "id": "f98c8db2",
   "metadata": {},
   "outputs": [],
   "source": [
    "Data['Turbidity']=np.where(Data['Turbidity'] < low_limit,low_limit,Data['Turbidity']) # low_limit"
   ]
  },
  {
   "cell_type": "code",
   "execution_count": 50,
   "id": "e45c12ee",
   "metadata": {},
   "outputs": [
    {
     "data": {
      "text/plain": [
       "<AxesSubplot:xlabel='Turbidity'>"
      ]
     },
     "execution_count": 50,
     "metadata": {},
     "output_type": "execute_result"
    },
    {
     "data": {
      "image/png": "[encoded data removed]",
      "text/plain": [
       "<Figure size 640x480 with 1 Axes>"
      ]
     },
     "metadata": {},
     "output_type": "display_data"
    }
   ],
   "source": [
    "sns.boxplot(Data.Turbidity)"
   ]
  },
  {
   "cell_type": "code",
   "execution_count": 51,
   "id": "263e386a",
   "metadata": {},
   "outputs": [
    {
     "name": "stdout",
     "output_type": "stream",
     "text": [
      "<class 'pandas.core.frame.DataFrame'>\n",
      "RangeIndex: 3276 entries, 0 to 3275\n",
      "Data columns (total 10 columns):\n",
      " #   Column           Non-Null Count  Dtype  \n",
      "---  ------           --------------  -----  \n",
      " 0   ph               3276 non-null   float64\n",
      " 1   Hardness         3276 non-null   float64\n",
      " 2   Solids           3276 non-null   float64\n",
      " 3   Chloramines      3276 non-null   float64\n",
      " 4   Sulfate          3276 non-null   float64\n",
      " 5   Conductivity     3276 non-null   float64\n",
      " 6   Organic_carbon   3276 non-null   float64\n",
      " 7   Trihalomethanes  3276 non-null   float64\n",
      " 8   Turbidity        3276 non-null   float64\n",
      " 9   Potability       3276 non-null   object \n",
      "dtypes: float64(9), object(1)\n",
      "memory usage: 256.1+ KB\n"
     ]
    }
   ],
   "source": [
    "Data.info()"
   ]
  },
  {
   "cell_type": "code",
   "execution_count": 53,
   "id": "928f2703",
   "metadata": {},
   "outputs": [
    {
     "data": {
      "text/plain": [
       "['ph',\n",
       " 'Hardness',\n",
       " 'Solids',\n",
       " 'Chloramines',\n",
       " 'Sulfate',\n",
       " 'Conductivity',\n",
       " 'Organic_carbon',\n",
       " 'Trihalomethanes',\n",
       " 'Turbidity']"
      ]
     },
     "execution_count": 53,
     "metadata": {},
     "output_type": "execute_result"
    }
   ],
   "source": [
    "Data.select_dtypes(include=[np.number]).columns.tolist()"
   ]
  },
  {
   "cell_type": "code",
   "execution_count": 55,
   "id": "4f8427e7",
   "metadata": {},
   "outputs": [
    {
     "data": {
      "text/html": [
       "<div>\n",
       "<style scoped>\n",
       "    .dataframe tbody tr th:only-of-type {\n",
       "        vertical-align: middle;\n",
       "    }\n",
       "\n",
       "    .dataframe tbody tr th {\n",
       "        vertical-align: top;\n",
       "    }\n",
       "\n",
       "    .dataframe thead th {\n",
       "        text-align: right;\n",
       "    }\n",
       "</style>\n",
       "<table border=\"1\" class=\"dataframe\">\n",
       "  <thead>\n",
       "    <tr style=\"text-align: right;\">\n",
       "      <th></th>\n",
       "      <th>ph</th>\n",
       "      <th>Hardness</th>\n",
       "      <th>Solids</th>\n",
       "      <th>Chloramines</th>\n",
       "      <th>Sulfate</th>\n",
       "      <th>Conductivity</th>\n",
       "      <th>Organic_carbon</th>\n",
       "      <th>Trihalomethanes</th>\n",
       "      <th>Turbidity</th>\n",
       "    </tr>\n",
       "  </thead>\n",
       "  <tbody>\n",
       "    <tr>\n",
       "      <th>0</th>\n",
       "      <td>7.036752</td>\n",
       "      <td>204.890456</td>\n",
       "      <td>20791.31898</td>\n",
       "      <td>7.300212</td>\n",
       "      <td>368.516441</td>\n",
       "      <td>564.308654</td>\n",
       "      <td>10.379783</td>\n",
       "      <td>86.990970</td>\n",
       "      <td>2.963135</td>\n",
       "    </tr>\n",
       "    <tr>\n",
       "      <th>1</th>\n",
       "      <td>3.889107</td>\n",
       "      <td>129.422921</td>\n",
       "      <td>18630.05786</td>\n",
       "      <td>6.635246</td>\n",
       "      <td>333.073546</td>\n",
       "      <td>592.885359</td>\n",
       "      <td>15.180013</td>\n",
       "      <td>56.329076</td>\n",
       "      <td>4.500656</td>\n",
       "    </tr>\n",
       "    <tr>\n",
       "      <th>2</th>\n",
       "      <td>8.099124</td>\n",
       "      <td>224.236259</td>\n",
       "      <td>19909.54173</td>\n",
       "      <td>9.275884</td>\n",
       "      <td>333.073546</td>\n",
       "      <td>418.606213</td>\n",
       "      <td>16.868637</td>\n",
       "      <td>66.420093</td>\n",
       "      <td>3.055934</td>\n",
       "    </tr>\n",
       "  </tbody>\n",
       "</table>\n",
       "</div>"
      ],
      "text/plain": [
       "         ph    Hardness       Solids  Chloramines     Sulfate  Conductivity  \\\n",
       "0  7.036752  204.890456  20791.31898     7.300212  368.516441    564.308654   \n",
       "1  3.889107  129.422921  18630.05786     6.635246  333.073546    592.885359   \n",
       "2  8.099124  224.236259  19909.54173     9.275884  333.073546    418.606213   \n",
       "\n",
       "   Organic_carbon  Trihalomethanes  Turbidity  \n",
       "0       10.379783        86.990970   2.963135  \n",
       "1       15.180013        56.329076   4.500656  \n",
       "2       16.868637        66.420093   3.055934  "
      ]
     },
     "execution_count": 55,
     "metadata": {},
     "output_type": "execute_result"
    }
   ],
   "source": [
    "Quantitative_Variable = Data[Data.select_dtypes(include=[np.number]).columns.tolist()]\n",
    "Quantitative_Variable.head(3)"
   ]
  },
  {
   "cell_type": "code",
   "execution_count": 56,
   "id": "5371e06b",
   "metadata": {},
   "outputs": [
    {
     "data": {
      "text/html": [
       "<div>\n",
       "<style scoped>\n",
       "    .dataframe tbody tr th:only-of-type {\n",
       "        vertical-align: middle;\n",
       "    }\n",
       "\n",
       "    .dataframe tbody tr th {\n",
       "        vertical-align: top;\n",
       "    }\n",
       "\n",
       "    .dataframe thead th {\n",
       "        text-align: right;\n",
       "    }\n",
       "</style>\n",
       "<table border=\"1\" class=\"dataframe\">\n",
       "  <thead>\n",
       "    <tr style=\"text-align: right;\">\n",
       "      <th></th>\n",
       "      <th>Potability</th>\n",
       "    </tr>\n",
       "  </thead>\n",
       "  <tbody>\n",
       "    <tr>\n",
       "      <th>0</th>\n",
       "      <td>not potable</td>\n",
       "    </tr>\n",
       "    <tr>\n",
       "      <th>1</th>\n",
       "      <td>not potable</td>\n",
       "    </tr>\n",
       "    <tr>\n",
       "      <th>2</th>\n",
       "      <td>not potable</td>\n",
       "    </tr>\n",
       "  </tbody>\n",
       "</table>\n",
       "</div>"
      ],
      "text/plain": [
       "    Potability\n",
       "0  not potable\n",
       "1  not potable\n",
       "2  not potable"
      ]
     },
     "execution_count": 56,
     "metadata": {},
     "output_type": "execute_result"
    }
   ],
   "source": [
    "Qualitative_Variable = Data[Data.select_dtypes(include=['object']).columns.tolist()]\n",
    "Qualitative_Variable.head(3)"
   ]
  },
  {
   "cell_type": "code",
   "execution_count": 57,
   "id": "0f514f59",
   "metadata": {},
   "outputs": [
    {
     "data": {
      "text/html": [
       "<div>\n",
       "<style scoped>\n",
       "    .dataframe tbody tr th:only-of-type {\n",
       "        vertical-align: middle;\n",
       "    }\n",
       "\n",
       "    .dataframe tbody tr th {\n",
       "        vertical-align: top;\n",
       "    }\n",
       "\n",
       "    .dataframe thead th {\n",
       "        text-align: right;\n",
       "    }\n",
       "</style>\n",
       "<table border=\"1\" class=\"dataframe\">\n",
       "  <thead>\n",
       "    <tr style=\"text-align: right;\">\n",
       "      <th></th>\n",
       "      <th>Potability</th>\n",
       "    </tr>\n",
       "  </thead>\n",
       "  <tbody>\n",
       "    <tr>\n",
       "      <th>0</th>\n",
       "      <td>0</td>\n",
       "    </tr>\n",
       "    <tr>\n",
       "      <th>1</th>\n",
       "      <td>0</td>\n",
       "    </tr>\n",
       "    <tr>\n",
       "      <th>2</th>\n",
       "      <td>0</td>\n",
       "    </tr>\n",
       "    <tr>\n",
       "      <th>3</th>\n",
       "      <td>0</td>\n",
       "    </tr>\n",
       "    <tr>\n",
       "      <th>4</th>\n",
       "      <td>0</td>\n",
       "    </tr>\n",
       "  </tbody>\n",
       "</table>\n",
       "</div>"
      ],
      "text/plain": [
       "   Potability\n",
       "0           0\n",
       "1           0\n",
       "2           0\n",
       "3           0\n",
       "4           0"
      ]
     },
     "execution_count": 57,
     "metadata": {},
     "output_type": "execute_result"
    }
   ],
   "source": [
    "from sklearn.preprocessing import LabelEncoder\n",
    "Qualitative_Variable=Qualitative_Variable.apply(LabelEncoder().fit_transform) # label in ascending order\n",
    "Qualitative_Variable.head()"
   ]
  },
  {
   "cell_type": "code",
   "execution_count": 58,
   "id": "7a17a741",
   "metadata": {},
   "outputs": [
    {
     "data": {
      "text/html": [
       "<div>\n",
       "<style scoped>\n",
       "    .dataframe tbody tr th:only-of-type {\n",
       "        vertical-align: middle;\n",
       "    }\n",
       "\n",
       "    .dataframe tbody tr th {\n",
       "        vertical-align: top;\n",
       "    }\n",
       "\n",
       "    .dataframe thead th {\n",
       "        text-align: right;\n",
       "    }\n",
       "</style>\n",
       "<table border=\"1\" class=\"dataframe\">\n",
       "  <thead>\n",
       "    <tr style=\"text-align: right;\">\n",
       "      <th></th>\n",
       "      <th>Potability</th>\n",
       "      <th>ph</th>\n",
       "      <th>Hardness</th>\n",
       "      <th>Solids</th>\n",
       "      <th>Chloramines</th>\n",
       "      <th>Sulfate</th>\n",
       "      <th>Conductivity</th>\n",
       "      <th>Organic_carbon</th>\n",
       "      <th>Trihalomethanes</th>\n",
       "      <th>Turbidity</th>\n",
       "    </tr>\n",
       "  </thead>\n",
       "  <tbody>\n",
       "    <tr>\n",
       "      <th>0</th>\n",
       "      <td>0</td>\n",
       "      <td>7.036752</td>\n",
       "      <td>204.890456</td>\n",
       "      <td>20791.31898</td>\n",
       "      <td>7.300212</td>\n",
       "      <td>368.516441</td>\n",
       "      <td>564.308654</td>\n",
       "      <td>10.379783</td>\n",
       "      <td>86.990970</td>\n",
       "      <td>2.963135</td>\n",
       "    </tr>\n",
       "    <tr>\n",
       "      <th>1</th>\n",
       "      <td>0</td>\n",
       "      <td>3.889107</td>\n",
       "      <td>129.422921</td>\n",
       "      <td>18630.05786</td>\n",
       "      <td>6.635246</td>\n",
       "      <td>333.073546</td>\n",
       "      <td>592.885359</td>\n",
       "      <td>15.180013</td>\n",
       "      <td>56.329076</td>\n",
       "      <td>4.500656</td>\n",
       "    </tr>\n",
       "    <tr>\n",
       "      <th>2</th>\n",
       "      <td>0</td>\n",
       "      <td>8.099124</td>\n",
       "      <td>224.236259</td>\n",
       "      <td>19909.54173</td>\n",
       "      <td>9.275884</td>\n",
       "      <td>333.073546</td>\n",
       "      <td>418.606213</td>\n",
       "      <td>16.868637</td>\n",
       "      <td>66.420093</td>\n",
       "      <td>3.055934</td>\n",
       "    </tr>\n",
       "    <tr>\n",
       "      <th>3</th>\n",
       "      <td>0</td>\n",
       "      <td>8.316766</td>\n",
       "      <td>214.373394</td>\n",
       "      <td>22018.41744</td>\n",
       "      <td>8.059332</td>\n",
       "      <td>356.886136</td>\n",
       "      <td>363.266516</td>\n",
       "      <td>18.436525</td>\n",
       "      <td>100.341674</td>\n",
       "      <td>4.628771</td>\n",
       "    </tr>\n",
       "    <tr>\n",
       "      <th>4</th>\n",
       "      <td>0</td>\n",
       "      <td>9.092223</td>\n",
       "      <td>181.101509</td>\n",
       "      <td>17978.98634</td>\n",
       "      <td>6.546600</td>\n",
       "      <td>310.135738</td>\n",
       "      <td>398.410813</td>\n",
       "      <td>11.558279</td>\n",
       "      <td>31.997993</td>\n",
       "      <td>4.075075</td>\n",
       "    </tr>\n",
       "  </tbody>\n",
       "</table>\n",
       "</div>"
      ],
      "text/plain": [
       "   Potability        ph    Hardness       Solids  Chloramines     Sulfate  \\\n",
       "0           0  7.036752  204.890456  20791.31898     7.300212  368.516441   \n",
       "1           0  3.889107  129.422921  18630.05786     6.635246  333.073546   \n",
       "2           0  8.099124  224.236259  19909.54173     9.275884  333.073546   \n",
       "3           0  8.316766  214.373394  22018.41744     8.059332  356.886136   \n",
       "4           0  9.092223  181.101509  17978.98634     6.546600  310.135738   \n",
       "\n",
       "   Conductivity  Organic_carbon  Trihalomethanes  Turbidity  \n",
       "0    564.308654       10.379783        86.990970   2.963135  \n",
       "1    592.885359       15.180013        56.329076   4.500656  \n",
       "2    418.606213       16.868637        66.420093   3.055934  \n",
       "3    363.266516       18.436525       100.341674   4.628771  \n",
       "4    398.410813       11.558279        31.997993   4.075075  "
      ]
     },
     "execution_count": 58,
     "metadata": {},
     "output_type": "execute_result"
    }
   ],
   "source": [
    "Final_combined = pd.concat([Qualitative_Variable, Quantitative_Variable],axis=1)\n",
    "Final_combined.head()"
   ]
  },
  {
   "cell_type": "code",
   "execution_count": 59,
   "id": "5909fc8a",
   "metadata": {},
   "outputs": [],
   "source": [
    "from sklearn.model_selection import train_test_split\n",
    "\n",
    "# define our input variable (X) & output variable\n",
    "X = Final_combined.drop('Potability', axis = 1)\n",
    "Y = Final_combined[['Potability']]\n",
    "# Split X and y into X_\n",
    "X_train, X_test, y_train, y_test = train_test_split(X, Y, test_size=0.20, random_state=60)"
   ]
  },
  {
   "cell_type": "code",
   "execution_count": 60,
   "id": "07e1d82f",
   "metadata": {},
   "outputs": [],
   "source": [
    "from sklearn.linear_model import LogisticRegression\n",
    "from sklearn import metrics\n",
    "logreg = LogisticRegression()\n",
    "output=logreg.fit(X_train, y_train) # model"
   ]
  },
  {
   "cell_type": "code",
   "execution_count": 61,
   "id": "229649dd",
   "metadata": {},
   "outputs": [
    {
     "data": {
      "text/plain": [
       "array([-0.00056658])"
      ]
     },
     "execution_count": 61,
     "metadata": {},
     "output_type": "execute_result"
    }
   ],
   "source": [
    "output.intercept_  # beto "
   ]
  },
  {
   "cell_type": "code",
   "execution_count": 62,
   "id": "449847af",
   "metadata": {},
   "outputs": [
    {
     "data": {
      "text/plain": [
       "array([[-7.10505094e-03, -7.36773351e-04,  5.84262003e-06,\n",
       "         1.91914635e-02, -9.49137289e-04, -8.61782604e-05,\n",
       "        -1.93461693e-02,  1.97247526e-03, -1.96331792e-03]])"
      ]
     },
     "execution_count": 62,
     "metadata": {},
     "output_type": "execute_result"
    }
   ],
   "source": [
    "output.coef_  # Beta 1 -- "
   ]
  },
  {
   "cell_type": "code",
   "execution_count": 63,
   "id": "e176cf66",
   "metadata": {},
   "outputs": [
    {
     "data": {
      "text/plain": [
       "array(['ph', 'Hardness', 'Solids', 'Chloramines', 'Sulfate',\n",
       "       'Conductivity', 'Organic_carbon', 'Trihalomethanes', 'Turbidity'],\n",
       "      dtype=object)"
      ]
     },
     "execution_count": 63,
     "metadata": {},
     "output_type": "execute_result"
    }
   ],
   "source": [
    "output.feature_names_in_"
   ]
  },
  {
   "cell_type": "code",
   "execution_count": 64,
   "id": "e8e5566f",
   "metadata": {},
   "outputs": [
    {
     "data": {
      "text/html": [
       "<div>\n",
       "<style scoped>\n",
       "    .dataframe tbody tr th:only-of-type {\n",
       "        vertical-align: middle;\n",
       "    }\n",
       "\n",
       "    .dataframe tbody tr th {\n",
       "        vertical-align: top;\n",
       "    }\n",
       "\n",
       "    .dataframe thead th {\n",
       "        text-align: right;\n",
       "    }\n",
       "</style>\n",
       "<table border=\"1\" class=\"dataframe\">\n",
       "  <thead>\n",
       "    <tr style=\"text-align: right;\">\n",
       "      <th></th>\n",
       "      <th>ph</th>\n",
       "      <th>Hardness</th>\n",
       "      <th>Solids</th>\n",
       "      <th>Chloramines</th>\n",
       "      <th>Sulfate</th>\n",
       "      <th>Conductivity</th>\n",
       "      <th>Organic_carbon</th>\n",
       "      <th>Trihalomethanes</th>\n",
       "      <th>Turbidity</th>\n",
       "      <th>Potability</th>\n",
       "    </tr>\n",
       "  </thead>\n",
       "  <tbody>\n",
       "    <tr>\n",
       "      <th>785</th>\n",
       "      <td>5.140801</td>\n",
       "      <td>209.358561</td>\n",
       "      <td>21407.61429</td>\n",
       "      <td>4.415976</td>\n",
       "      <td>267.157960</td>\n",
       "      <td>378.897190</td>\n",
       "      <td>5.328026</td>\n",
       "      <td>86.737223</td>\n",
       "      <td>4.192257</td>\n",
       "      <td>1</td>\n",
       "    </tr>\n",
       "    <tr>\n",
       "      <th>170</th>\n",
       "      <td>8.293720</td>\n",
       "      <td>206.160415</td>\n",
       "      <td>35216.38597</td>\n",
       "      <td>6.441000</td>\n",
       "      <td>347.062241</td>\n",
       "      <td>399.483621</td>\n",
       "      <td>16.065668</td>\n",
       "      <td>79.954511</td>\n",
       "      <td>3.954715</td>\n",
       "      <td>0</td>\n",
       "    </tr>\n",
       "    <tr>\n",
       "      <th>742</th>\n",
       "      <td>7.678967</td>\n",
       "      <td>205.479918</td>\n",
       "      <td>7472.50648</td>\n",
       "      <td>7.181869</td>\n",
       "      <td>333.073546</td>\n",
       "      <td>395.235784</td>\n",
       "      <td>7.918150</td>\n",
       "      <td>76.378309</td>\n",
       "      <td>3.718982</td>\n",
       "      <td>1</td>\n",
       "    </tr>\n",
       "    <tr>\n",
       "      <th>2113</th>\n",
       "      <td>6.519848</td>\n",
       "      <td>183.225998</td>\n",
       "      <td>14284.64792</td>\n",
       "      <td>8.389078</td>\n",
       "      <td>373.091575</td>\n",
       "      <td>495.417954</td>\n",
       "      <td>11.638475</td>\n",
       "      <td>58.661649</td>\n",
       "      <td>3.272286</td>\n",
       "      <td>0</td>\n",
       "    </tr>\n",
       "    <tr>\n",
       "      <th>2930</th>\n",
       "      <td>9.764658</td>\n",
       "      <td>119.164010</td>\n",
       "      <td>38781.45742</td>\n",
       "      <td>9.334632</td>\n",
       "      <td>380.230634</td>\n",
       "      <td>512.331846</td>\n",
       "      <td>14.967733</td>\n",
       "      <td>59.193176</td>\n",
       "      <td>3.024571</td>\n",
       "      <td>0</td>\n",
       "    </tr>\n",
       "  </tbody>\n",
       "</table>\n",
       "</div>"
      ],
      "text/plain": [
       "            ph    Hardness       Solids  Chloramines     Sulfate  \\\n",
       "785   5.140801  209.358561  21407.61429     4.415976  267.157960   \n",
       "170   8.293720  206.160415  35216.38597     6.441000  347.062241   \n",
       "742   7.678967  205.479918   7472.50648     7.181869  333.073546   \n",
       "2113  6.519848  183.225998  14284.64792     8.389078  373.091575   \n",
       "2930  9.764658  119.164010  38781.45742     9.334632  380.230634   \n",
       "\n",
       "      Conductivity  Organic_carbon  Trihalomethanes  Turbidity  Potability  \n",
       "785     378.897190        5.328026        86.737223   4.192257           1  \n",
       "170     399.483621       16.065668        79.954511   3.954715           0  \n",
       "742     395.235784        7.918150        76.378309   3.718982           1  \n",
       "2113    495.417954       11.638475        58.661649   3.272286           0  \n",
       "2930    512.331846       14.967733        59.193176   3.024571           0  "
      ]
     },
     "execution_count": 64,
     "metadata": {},
     "output_type": "execute_result"
    }
   ],
   "source": [
    "train=pd.concat([X_train,y_train],axis=1)\n",
    "train.head()"
   ]
  },
  {
   "cell_type": "code",
   "execution_count": 65,
   "id": "000b31a7",
   "metadata": {},
   "outputs": [
    {
     "data": {
      "text/html": [
       "<div>\n",
       "<style scoped>\n",
       "    .dataframe tbody tr th:only-of-type {\n",
       "        vertical-align: middle;\n",
       "    }\n",
       "\n",
       "    .dataframe tbody tr th {\n",
       "        vertical-align: top;\n",
       "    }\n",
       "\n",
       "    .dataframe thead th {\n",
       "        text-align: right;\n",
       "    }\n",
       "</style>\n",
       "<table border=\"1\" class=\"dataframe\">\n",
       "  <thead>\n",
       "    <tr style=\"text-align: right;\">\n",
       "      <th></th>\n",
       "      <th>ph</th>\n",
       "      <th>Hardness</th>\n",
       "      <th>Solids</th>\n",
       "      <th>Chloramines</th>\n",
       "      <th>Sulfate</th>\n",
       "      <th>Conductivity</th>\n",
       "      <th>Organic_carbon</th>\n",
       "      <th>Trihalomethanes</th>\n",
       "      <th>Turbidity</th>\n",
       "      <th>Potability</th>\n",
       "      <th>Predicted</th>\n",
       "    </tr>\n",
       "  </thead>\n",
       "  <tbody>\n",
       "    <tr>\n",
       "      <th>785</th>\n",
       "      <td>5.140801</td>\n",
       "      <td>209.358561</td>\n",
       "      <td>21407.61429</td>\n",
       "      <td>4.415976</td>\n",
       "      <td>267.157960</td>\n",
       "      <td>378.897190</td>\n",
       "      <td>5.328026</td>\n",
       "      <td>86.737223</td>\n",
       "      <td>4.192257</td>\n",
       "      <td>1</td>\n",
       "      <td>0</td>\n",
       "    </tr>\n",
       "    <tr>\n",
       "      <th>170</th>\n",
       "      <td>8.293720</td>\n",
       "      <td>206.160415</td>\n",
       "      <td>35216.38597</td>\n",
       "      <td>6.441000</td>\n",
       "      <td>347.062241</td>\n",
       "      <td>399.483621</td>\n",
       "      <td>16.065668</td>\n",
       "      <td>79.954511</td>\n",
       "      <td>3.954715</td>\n",
       "      <td>0</td>\n",
       "      <td>0</td>\n",
       "    </tr>\n",
       "    <tr>\n",
       "      <th>742</th>\n",
       "      <td>7.678967</td>\n",
       "      <td>205.479918</td>\n",
       "      <td>7472.50648</td>\n",
       "      <td>7.181869</td>\n",
       "      <td>333.073546</td>\n",
       "      <td>395.235784</td>\n",
       "      <td>7.918150</td>\n",
       "      <td>76.378309</td>\n",
       "      <td>3.718982</td>\n",
       "      <td>1</td>\n",
       "      <td>0</td>\n",
       "    </tr>\n",
       "    <tr>\n",
       "      <th>2113</th>\n",
       "      <td>6.519848</td>\n",
       "      <td>183.225998</td>\n",
       "      <td>14284.64792</td>\n",
       "      <td>8.389078</td>\n",
       "      <td>373.091575</td>\n",
       "      <td>495.417954</td>\n",
       "      <td>11.638475</td>\n",
       "      <td>58.661649</td>\n",
       "      <td>3.272286</td>\n",
       "      <td>0</td>\n",
       "      <td>0</td>\n",
       "    </tr>\n",
       "    <tr>\n",
       "      <th>2930</th>\n",
       "      <td>9.764658</td>\n",
       "      <td>119.164010</td>\n",
       "      <td>38781.45742</td>\n",
       "      <td>9.334632</td>\n",
       "      <td>380.230634</td>\n",
       "      <td>512.331846</td>\n",
       "      <td>14.967733</td>\n",
       "      <td>59.193176</td>\n",
       "      <td>3.024571</td>\n",
       "      <td>0</td>\n",
       "      <td>0</td>\n",
       "    </tr>\n",
       "  </tbody>\n",
       "</table>\n",
       "</div>"
      ],
      "text/plain": [
       "            ph    Hardness       Solids  Chloramines     Sulfate  \\\n",
       "785   5.140801  209.358561  21407.61429     4.415976  267.157960   \n",
       "170   8.293720  206.160415  35216.38597     6.441000  347.062241   \n",
       "742   7.678967  205.479918   7472.50648     7.181869  333.073546   \n",
       "2113  6.519848  183.225998  14284.64792     8.389078  373.091575   \n",
       "2930  9.764658  119.164010  38781.45742     9.334632  380.230634   \n",
       "\n",
       "      Conductivity  Organic_carbon  Trihalomethanes  Turbidity  Potability  \\\n",
       "785     378.897190        5.328026        86.737223   4.192257           1   \n",
       "170     399.483621       16.065668        79.954511   3.954715           0   \n",
       "742     395.235784        7.918150        76.378309   3.718982           1   \n",
       "2113    495.417954       11.638475        58.661649   3.272286           0   \n",
       "2930    512.331846       14.967733        59.193176   3.024571           0   \n",
       "\n",
       "      Predicted  \n",
       "785           0  \n",
       "170           0  \n",
       "742           0  \n",
       "2113          0  \n",
       "2930          0  "
      ]
     },
     "execution_count": 65,
     "metadata": {},
     "output_type": "execute_result"
    }
   ],
   "source": [
    "train['Predicted']=output.predict(X_train)\n",
    "train.head()"
   ]
  },
  {
   "cell_type": "code",
   "execution_count": 66,
   "id": "6ab9378c",
   "metadata": {},
   "outputs": [
    {
     "data": {
      "text/plain": [
       "array([[1593, 1027],\n",
       "       [   0,    0]], dtype=int64)"
      ]
     },
     "execution_count": 66,
     "metadata": {},
     "output_type": "execute_result"
    }
   ],
   "source": [
    "from sklearn.metrics import confusion_matrix\n",
    "matrix = confusion_matrix(train['Predicted'], train['Potability'])\n",
    "matrix"
   ]
  },
  {
   "cell_type": "code",
   "execution_count": 74,
   "id": "0e610d15",
   "metadata": {},
   "outputs": [
    {
     "name": "stdout",
     "output_type": "stream",
     "text": [
      "60.80152671755725\n"
     ]
    }
   ],
   "source": [
    "Accuracy_Train=(1593/(2620)*100)\n",
    "print(Accuracy_Train)"
   ]
  },
  {
   "cell_type": "code",
   "execution_count": 68,
   "id": "20f7add3",
   "metadata": {},
   "outputs": [
    {
     "name": "stdout",
     "output_type": "stream",
     "text": [
      "              precision    recall  f1-score   support\n",
      "\n",
      "           0       0.61      1.00      0.76      1593\n",
      "           1       0.00      0.00      0.00      1027\n",
      "\n",
      "    accuracy                           0.61      2620\n",
      "   macro avg       0.30      0.50      0.38      2620\n",
      "weighted avg       0.37      0.61      0.46      2620\n",
      "\n"
     ]
    }
   ],
   "source": [
    "from sklearn.metrics import classification_report\n",
    "print(classification_report(train['Potability'],train['Predicted']))"
   ]
  },
  {
   "cell_type": "code",
   "execution_count": 69,
   "id": "40114efa",
   "metadata": {},
   "outputs": [
    {
     "data": {
      "text/html": [
       "<div>\n",
       "<style scoped>\n",
       "    .dataframe tbody tr th:only-of-type {\n",
       "        vertical-align: middle;\n",
       "    }\n",
       "\n",
       "    .dataframe tbody tr th {\n",
       "        vertical-align: top;\n",
       "    }\n",
       "\n",
       "    .dataframe thead th {\n",
       "        text-align: right;\n",
       "    }\n",
       "</style>\n",
       "<table border=\"1\" class=\"dataframe\">\n",
       "  <thead>\n",
       "    <tr style=\"text-align: right;\">\n",
       "      <th></th>\n",
       "      <th>ph</th>\n",
       "      <th>Hardness</th>\n",
       "      <th>Solids</th>\n",
       "      <th>Chloramines</th>\n",
       "      <th>Sulfate</th>\n",
       "      <th>Conductivity</th>\n",
       "      <th>Organic_carbon</th>\n",
       "      <th>Trihalomethanes</th>\n",
       "      <th>Turbidity</th>\n",
       "      <th>Potability</th>\n",
       "    </tr>\n",
       "  </thead>\n",
       "  <tbody>\n",
       "    <tr>\n",
       "      <th>1899</th>\n",
       "      <td>6.879405</td>\n",
       "      <td>214.731887</td>\n",
       "      <td>20509.331960</td>\n",
       "      <td>9.035250</td>\n",
       "      <td>321.383278</td>\n",
       "      <td>306.784302</td>\n",
       "      <td>12.477303</td>\n",
       "      <td>79.692080</td>\n",
       "      <td>4.700470</td>\n",
       "      <td>1</td>\n",
       "    </tr>\n",
       "    <tr>\n",
       "      <th>2928</th>\n",
       "      <td>3.889107</td>\n",
       "      <td>221.204114</td>\n",
       "      <td>31145.110740</td>\n",
       "      <td>7.615583</td>\n",
       "      <td>333.677843</td>\n",
       "      <td>439.112765</td>\n",
       "      <td>21.145954</td>\n",
       "      <td>66.622485</td>\n",
       "      <td>2.533996</td>\n",
       "      <td>0</td>\n",
       "    </tr>\n",
       "    <tr>\n",
       "      <th>925</th>\n",
       "      <td>7.602121</td>\n",
       "      <td>199.353165</td>\n",
       "      <td>11346.143450</td>\n",
       "      <td>6.900380</td>\n",
       "      <td>304.966488</td>\n",
       "      <td>210.319182</td>\n",
       "      <td>17.925782</td>\n",
       "      <td>62.846673</td>\n",
       "      <td>3.698875</td>\n",
       "      <td>0</td>\n",
       "    </tr>\n",
       "    <tr>\n",
       "      <th>1622</th>\n",
       "      <td>7.213375</td>\n",
       "      <td>213.767176</td>\n",
       "      <td>27377.699780</td>\n",
       "      <td>6.915301</td>\n",
       "      <td>327.717408</td>\n",
       "      <td>457.511587</td>\n",
       "      <td>17.968736</td>\n",
       "      <td>66.622485</td>\n",
       "      <td>3.453439</td>\n",
       "      <td>1</td>\n",
       "    </tr>\n",
       "    <tr>\n",
       "      <th>1974</th>\n",
       "      <td>6.549125</td>\n",
       "      <td>194.276857</td>\n",
       "      <td>7412.798059</td>\n",
       "      <td>5.836980</td>\n",
       "      <td>354.821194</td>\n",
       "      <td>361.037238</td>\n",
       "      <td>11.672190</td>\n",
       "      <td>57.316977</td>\n",
       "      <td>4.421059</td>\n",
       "      <td>1</td>\n",
       "    </tr>\n",
       "  </tbody>\n",
       "</table>\n",
       "</div>"
      ],
      "text/plain": [
       "            ph    Hardness        Solids  Chloramines     Sulfate  \\\n",
       "1899  6.879405  214.731887  20509.331960     9.035250  321.383278   \n",
       "2928  3.889107  221.204114  31145.110740     7.615583  333.677843   \n",
       "925   7.602121  199.353165  11346.143450     6.900380  304.966488   \n",
       "1622  7.213375  213.767176  27377.699780     6.915301  327.717408   \n",
       "1974  6.549125  194.276857   7412.798059     5.836980  354.821194   \n",
       "\n",
       "      Conductivity  Organic_carbon  Trihalomethanes  Turbidity  Potability  \n",
       "1899    306.784302       12.477303        79.692080   4.700470           1  \n",
       "2928    439.112765       21.145954        66.622485   2.533996           0  \n",
       "925     210.319182       17.925782        62.846673   3.698875           0  \n",
       "1622    457.511587       17.968736        66.622485   3.453439           1  \n",
       "1974    361.037238       11.672190        57.316977   4.421059           1  "
      ]
     },
     "execution_count": 69,
     "metadata": {},
     "output_type": "execute_result"
    }
   ],
   "source": [
    "test=pd.concat([X_test,y_test],axis=1)\n",
    "test.head()"
   ]
  },
  {
   "cell_type": "code",
   "execution_count": 70,
   "id": "d2134138",
   "metadata": {},
   "outputs": [
    {
     "data": {
      "text/html": [
       "<div>\n",
       "<style scoped>\n",
       "    .dataframe tbody tr th:only-of-type {\n",
       "        vertical-align: middle;\n",
       "    }\n",
       "\n",
       "    .dataframe tbody tr th {\n",
       "        vertical-align: top;\n",
       "    }\n",
       "\n",
       "    .dataframe thead th {\n",
       "        text-align: right;\n",
       "    }\n",
       "</style>\n",
       "<table border=\"1\" class=\"dataframe\">\n",
       "  <thead>\n",
       "    <tr style=\"text-align: right;\">\n",
       "      <th></th>\n",
       "      <th>ph</th>\n",
       "      <th>Hardness</th>\n",
       "      <th>Solids</th>\n",
       "      <th>Chloramines</th>\n",
       "      <th>Sulfate</th>\n",
       "      <th>Conductivity</th>\n",
       "      <th>Organic_carbon</th>\n",
       "      <th>Trihalomethanes</th>\n",
       "      <th>Turbidity</th>\n",
       "      <th>Potability</th>\n",
       "      <th>Predicted</th>\n",
       "    </tr>\n",
       "  </thead>\n",
       "  <tbody>\n",
       "    <tr>\n",
       "      <th>1899</th>\n",
       "      <td>6.879405</td>\n",
       "      <td>214.731887</td>\n",
       "      <td>20509.331960</td>\n",
       "      <td>9.035250</td>\n",
       "      <td>321.383278</td>\n",
       "      <td>306.784302</td>\n",
       "      <td>12.477303</td>\n",
       "      <td>79.692080</td>\n",
       "      <td>4.700470</td>\n",
       "      <td>1</td>\n",
       "      <td>0</td>\n",
       "    </tr>\n",
       "    <tr>\n",
       "      <th>2928</th>\n",
       "      <td>3.889107</td>\n",
       "      <td>221.204114</td>\n",
       "      <td>31145.110740</td>\n",
       "      <td>7.615583</td>\n",
       "      <td>333.677843</td>\n",
       "      <td>439.112765</td>\n",
       "      <td>21.145954</td>\n",
       "      <td>66.622485</td>\n",
       "      <td>2.533996</td>\n",
       "      <td>0</td>\n",
       "      <td>0</td>\n",
       "    </tr>\n",
       "    <tr>\n",
       "      <th>925</th>\n",
       "      <td>7.602121</td>\n",
       "      <td>199.353165</td>\n",
       "      <td>11346.143450</td>\n",
       "      <td>6.900380</td>\n",
       "      <td>304.966488</td>\n",
       "      <td>210.319182</td>\n",
       "      <td>17.925782</td>\n",
       "      <td>62.846673</td>\n",
       "      <td>3.698875</td>\n",
       "      <td>0</td>\n",
       "      <td>0</td>\n",
       "    </tr>\n",
       "    <tr>\n",
       "      <th>1622</th>\n",
       "      <td>7.213375</td>\n",
       "      <td>213.767176</td>\n",
       "      <td>27377.699780</td>\n",
       "      <td>6.915301</td>\n",
       "      <td>327.717408</td>\n",
       "      <td>457.511587</td>\n",
       "      <td>17.968736</td>\n",
       "      <td>66.622485</td>\n",
       "      <td>3.453439</td>\n",
       "      <td>1</td>\n",
       "      <td>0</td>\n",
       "    </tr>\n",
       "    <tr>\n",
       "      <th>1974</th>\n",
       "      <td>6.549125</td>\n",
       "      <td>194.276857</td>\n",
       "      <td>7412.798059</td>\n",
       "      <td>5.836980</td>\n",
       "      <td>354.821194</td>\n",
       "      <td>361.037238</td>\n",
       "      <td>11.672190</td>\n",
       "      <td>57.316977</td>\n",
       "      <td>4.421059</td>\n",
       "      <td>1</td>\n",
       "      <td>0</td>\n",
       "    </tr>\n",
       "  </tbody>\n",
       "</table>\n",
       "</div>"
      ],
      "text/plain": [
       "            ph    Hardness        Solids  Chloramines     Sulfate  \\\n",
       "1899  6.879405  214.731887  20509.331960     9.035250  321.383278   \n",
       "2928  3.889107  221.204114  31145.110740     7.615583  333.677843   \n",
       "925   7.602121  199.353165  11346.143450     6.900380  304.966488   \n",
       "1622  7.213375  213.767176  27377.699780     6.915301  327.717408   \n",
       "1974  6.549125  194.276857   7412.798059     5.836980  354.821194   \n",
       "\n",
       "      Conductivity  Organic_carbon  Trihalomethanes  Turbidity  Potability  \\\n",
       "1899    306.784302       12.477303        79.692080   4.700470           1   \n",
       "2928    439.112765       21.145954        66.622485   2.533996           0   \n",
       "925     210.319182       17.925782        62.846673   3.698875           0   \n",
       "1622    457.511587       17.968736        66.622485   3.453439           1   \n",
       "1974    361.037238       11.672190        57.316977   4.421059           1   \n",
       "\n",
       "      Predicted  \n",
       "1899          0  \n",
       "2928          0  \n",
       "925           0  \n",
       "1622          0  \n",
       "1974          0  "
      ]
     },
     "execution_count": 70,
     "metadata": {},
     "output_type": "execute_result"
    }
   ],
   "source": [
    "test['Predicted']=output.predict(X_test)\n",
    "test.head()"
   ]
  },
  {
   "cell_type": "code",
   "execution_count": 71,
   "id": "5c42fd49",
   "metadata": {},
   "outputs": [
    {
     "name": "stdout",
     "output_type": "stream",
     "text": [
      "[[405 251]\n",
      " [  0   0]]\n"
     ]
    }
   ],
   "source": [
    "from sklearn.metrics import confusion_matrix\n",
    "matrix = confusion_matrix(test['Predicted'],test['Potability'])\n",
    "print(matrix)"
   ]
  },
  {
   "cell_type": "code",
   "execution_count": 72,
   "id": "c254a2d6",
   "metadata": {},
   "outputs": [
    {
     "data": {
      "text/plain": [
       "61.737804878048784"
      ]
     },
     "execution_count": 72,
     "metadata": {},
     "output_type": "execute_result"
    }
   ],
   "source": [
    "Accuracy_test=(405/(656)*100)\n",
    "Accuracy_test"
   ]
  },
  {
   "cell_type": "code",
   "execution_count": 75,
   "id": "1bb54d07",
   "metadata": {},
   "outputs": [
    {
     "name": "stdout",
     "output_type": "stream",
     "text": [
      "              precision    recall  f1-score   support\n",
      "\n",
      "           0       0.62      1.00      0.76       405\n",
      "           1       0.00      0.00      0.00       251\n",
      "\n",
      "    accuracy                           0.62       656\n",
      "   macro avg       0.31      0.50      0.38       656\n",
      "weighted avg       0.38      0.62      0.47       656\n",
      "\n"
     ]
    }
   ],
   "source": [
    "from sklearn.metrics import classification_report\n",
    "print(classification_report(test['Potability'],test['Predicted']))"
   ]
  },
  {
   "cell_type": "code",
   "execution_count": 76,
   "id": "0cd53727",
   "metadata": {},
   "outputs": [
    {
     "data": {
      "text/html": [
       "<div>\n",
       "<style scoped>\n",
       "    .dataframe tbody tr th:only-of-type {\n",
       "        vertical-align: middle;\n",
       "    }\n",
       "\n",
       "    .dataframe tbody tr th {\n",
       "        vertical-align: top;\n",
       "    }\n",
       "\n",
       "    .dataframe thead th {\n",
       "        text-align: right;\n",
       "    }\n",
       "</style>\n",
       "<table border=\"1\" class=\"dataframe\">\n",
       "  <thead>\n",
       "    <tr style=\"text-align: right;\">\n",
       "      <th></th>\n",
       "      <th>Coefficient</th>\n",
       "    </tr>\n",
       "  </thead>\n",
       "  <tbody>\n",
       "    <tr>\n",
       "      <th>Intercept</th>\n",
       "      <td>-0.000567</td>\n",
       "    </tr>\n",
       "  </tbody>\n",
       "</table>\n",
       "</div>"
      ],
      "text/plain": [
       "           Coefficient\n",
       "Intercept    -0.000567"
      ]
     },
     "execution_count": 76,
     "metadata": {},
     "output_type": "execute_result"
    }
   ],
   "source": [
    "Model_Values=pd.DataFrame(output.intercept_,index=['Intercept'],columns=['Coefficient'])\n",
    "Model_Values"
   ]
  },
  {
   "cell_type": "code",
   "execution_count": 77,
   "id": "1453f73c",
   "metadata": {},
   "outputs": [
    {
     "data": {
      "text/html": [
       "<div>\n",
       "<style scoped>\n",
       "    .dataframe tbody tr th:only-of-type {\n",
       "        vertical-align: middle;\n",
       "    }\n",
       "\n",
       "    .dataframe tbody tr th {\n",
       "        vertical-align: top;\n",
       "    }\n",
       "\n",
       "    .dataframe thead th {\n",
       "        text-align: right;\n",
       "    }\n",
       "</style>\n",
       "<table border=\"1\" class=\"dataframe\">\n",
       "  <thead>\n",
       "    <tr style=\"text-align: right;\">\n",
       "      <th></th>\n",
       "      <th>Coefficient</th>\n",
       "    </tr>\n",
       "  </thead>\n",
       "  <tbody>\n",
       "    <tr>\n",
       "      <th>ph</th>\n",
       "      <td>-0.007105</td>\n",
       "    </tr>\n",
       "    <tr>\n",
       "      <th>Hardness</th>\n",
       "      <td>-0.000737</td>\n",
       "    </tr>\n",
       "    <tr>\n",
       "      <th>Solids</th>\n",
       "      <td>0.000006</td>\n",
       "    </tr>\n",
       "    <tr>\n",
       "      <th>Chloramines</th>\n",
       "      <td>0.019191</td>\n",
       "    </tr>\n",
       "    <tr>\n",
       "      <th>Sulfate</th>\n",
       "      <td>-0.000949</td>\n",
       "    </tr>\n",
       "    <tr>\n",
       "      <th>Conductivity</th>\n",
       "      <td>-0.000086</td>\n",
       "    </tr>\n",
       "    <tr>\n",
       "      <th>Organic_carbon</th>\n",
       "      <td>-0.019346</td>\n",
       "    </tr>\n",
       "    <tr>\n",
       "      <th>Trihalomethanes</th>\n",
       "      <td>0.001972</td>\n",
       "    </tr>\n",
       "    <tr>\n",
       "      <th>Turbidity</th>\n",
       "      <td>-0.001963</td>\n",
       "    </tr>\n",
       "  </tbody>\n",
       "</table>\n",
       "</div>"
      ],
      "text/plain": [
       "                 Coefficient\n",
       "ph                 -0.007105\n",
       "Hardness           -0.000737\n",
       "Solids              0.000006\n",
       "Chloramines         0.019191\n",
       "Sulfate            -0.000949\n",
       "Conductivity       -0.000086\n",
       "Organic_carbon     -0.019346\n",
       "Trihalomethanes     0.001972\n",
       "Turbidity          -0.001963"
      ]
     },
     "execution_count": 77,
     "metadata": {},
     "output_type": "execute_result"
    }
   ],
   "source": [
    "abc=pd.DataFrame(output.coef_.T,index=output.feature_names_in_,columns=['Coefficient'])\n",
    "abc"
   ]
  },
  {
   "cell_type": "code",
   "execution_count": 78,
   "id": "ae59bdc1",
   "metadata": {},
   "outputs": [
    {
     "data": {
      "text/html": [
       "<div>\n",
       "<style scoped>\n",
       "    .dataframe tbody tr th:only-of-type {\n",
       "        vertical-align: middle;\n",
       "    }\n",
       "\n",
       "    .dataframe tbody tr th {\n",
       "        vertical-align: top;\n",
       "    }\n",
       "\n",
       "    .dataframe thead th {\n",
       "        text-align: right;\n",
       "    }\n",
       "</style>\n",
       "<table border=\"1\" class=\"dataframe\">\n",
       "  <thead>\n",
       "    <tr style=\"text-align: right;\">\n",
       "      <th></th>\n",
       "      <th>Coefficient</th>\n",
       "    </tr>\n",
       "  </thead>\n",
       "  <tbody>\n",
       "    <tr>\n",
       "      <th>Intercept</th>\n",
       "      <td>-0.000567</td>\n",
       "    </tr>\n",
       "    <tr>\n",
       "      <th>ph</th>\n",
       "      <td>-0.007105</td>\n",
       "    </tr>\n",
       "    <tr>\n",
       "      <th>Hardness</th>\n",
       "      <td>-0.000737</td>\n",
       "    </tr>\n",
       "    <tr>\n",
       "      <th>Solids</th>\n",
       "      <td>0.000006</td>\n",
       "    </tr>\n",
       "    <tr>\n",
       "      <th>Chloramines</th>\n",
       "      <td>0.019191</td>\n",
       "    </tr>\n",
       "    <tr>\n",
       "      <th>Sulfate</th>\n",
       "      <td>-0.000949</td>\n",
       "    </tr>\n",
       "    <tr>\n",
       "      <th>Conductivity</th>\n",
       "      <td>-0.000086</td>\n",
       "    </tr>\n",
       "    <tr>\n",
       "      <th>Organic_carbon</th>\n",
       "      <td>-0.019346</td>\n",
       "    </tr>\n",
       "    <tr>\n",
       "      <th>Trihalomethanes</th>\n",
       "      <td>0.001972</td>\n",
       "    </tr>\n",
       "    <tr>\n",
       "      <th>Turbidity</th>\n",
       "      <td>-0.001963</td>\n",
       "    </tr>\n",
       "  </tbody>\n",
       "</table>\n",
       "</div>"
      ],
      "text/plain": [
       "                 Coefficient\n",
       "Intercept          -0.000567\n",
       "ph                 -0.007105\n",
       "Hardness           -0.000737\n",
       "Solids              0.000006\n",
       "Chloramines         0.019191\n",
       "Sulfate            -0.000949\n",
       "Conductivity       -0.000086\n",
       "Organic_carbon     -0.019346\n",
       "Trihalomethanes     0.001972\n",
       "Turbidity          -0.001963"
      ]
     },
     "execution_count": 78,
     "metadata": {},
     "output_type": "execute_result"
    }
   ],
   "source": [
    "Model_Values.append(abc)"
   ]
  },
  {
   "cell_type": "code",
   "execution_count": null,
   "id": "5e3981a5",
   "metadata": {},
   "outputs": [],
   "source": []
  }
 ],
 "metadata": {
  "kernelspec": {
   "display_name": "Python 3 (ipykernel)",
   "language": "python",
   "name": "python3"
  },
  "language_info": {
   "codemirror_mode": {
    "name": "ipython",
    "version": 3
   },
   "file_extension": ".py",
   "mimetype": "text/x-python",
   "name": "python",
   "nbconvert_exporter": "python",
   "pygments_lexer": "ipython3",
   "version": "3.9.13"
  }
 },
 "nbformat": 4,
 "nbformat_minor": 5
}
